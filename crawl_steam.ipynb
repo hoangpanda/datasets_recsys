{
  "nbformat": 4,
  "nbformat_minor": 0,
  "metadata": {
    "colab": {
      "provenance": [],
      "authorship_tag": "ABX9TyNo5CJMTss2CJZtZLgEs6Sz",
      "include_colab_link": true
    },
    "kernelspec": {
      "name": "python3",
      "display_name": "Python 3"
    },
    "language_info": {
      "name": "python"
    }
  },
  "cells": [
    {
      "cell_type": "markdown",
      "metadata": {
        "id": "view-in-github",
        "colab_type": "text"
      },
      "source": [
        "<a href=\"https://colab.research.google.com/github/hoangpanda/datasets_recsys/blob/main/crawl_steam.ipynb\" target=\"_parent\"><img src=\"https://colab.research.google.com/assets/colab-badge.svg\" alt=\"Open In Colab\"/></a>"
      ]
    },
    {
      "cell_type": "code",
      "execution_count": 2,
      "metadata": {
        "colab": {
          "base_uri": "https://localhost:8080/"
        },
        "id": "5W1QhVqzhdbs",
        "outputId": "ce9f5c19-97b3-4424-c568-b3efb207b2af"
      },
      "outputs": [
        {
          "output_type": "stream",
          "name": "stdout",
          "text": [
            "Mounted at content/\n"
          ]
        }
      ],
      "source": [
        "from google.colab import drive\n",
        "drive.mount('content/')"
      ]
    },
    {
      "cell_type": "code",
      "source": [
        "cd /content/content/MyDrive/data/datasets"
      ],
      "metadata": {
        "colab": {
          "base_uri": "https://localhost:8080/"
        },
        "id": "-CTemYnvh3yn",
        "outputId": "3f42f8c9-5be4-4c84-e476-6f932b68daec"
      },
      "execution_count": 3,
      "outputs": [
        {
          "output_type": "stream",
          "name": "stdout",
          "text": [
            "/content/content/MyDrive/data/datasets\n"
          ]
        }
      ]
    },
    {
      "cell_type": "code",
      "source": [
        "import json\n",
        "import os\n",
        "import ast"
      ],
      "metadata": {
        "id": "h2u2kW4uh5qz"
      },
      "execution_count": 13,
      "outputs": []
    },
    {
      "cell_type": "code",
      "source": [
        "# convert string to json format (dictionary)\n",
        "def convert_dict(data: str) -> dict:\n",
        "  return ast.literal_eval(data)\n",
        "\n",
        "def read_file(path: str) -> list:\n",
        "  # input: data path\n",
        "  # output: list of games\n",
        "  with open(path, 'r') as f:\n",
        "    item_lists = f.readlines()\n",
        "  output = [convert_dict(x) for x in item_lists]\n",
        "  return output"
      ],
      "metadata": {
        "id": "U6L0mulKiOQh"
      },
      "execution_count": 14,
      "outputs": []
    },
    {
      "cell_type": "code",
      "source": [
        "steam_games = read_file(\"./steam_games.json\")"
      ],
      "metadata": {
        "id": "MCdDeBDJjJiH"
      },
      "execution_count": 16,
      "outputs": []
    },
    {
      "cell_type": "code",
      "source": [
        "print(f'len of list games: {len(steam_games)}')"
      ],
      "metadata": {
        "colab": {
          "base_uri": "https://localhost:8080/"
        },
        "id": "VWSVB-1PjbFw",
        "outputId": "4a13f57b-b905-466a-941e-c84662c674e6"
      },
      "execution_count": 17,
      "outputs": [
        {
          "output_type": "stream",
          "name": "stdout",
          "text": [
            "len of list games: 32135\n"
          ]
        }
      ]
    },
    {
      "cell_type": "markdown",
      "source": [
        "set up for crawl img"
      ],
      "metadata": {
        "id": "DnvT69jYjpaW"
      }
    },
    {
      "cell_type": "code",
      "source": [
        "from bs4 import *\n",
        "import requests as rq\n",
        "import shutil"
      ],
      "metadata": {
        "id": "SqnUZzkBjo9O"
      },
      "execution_count": 44,
      "outputs": []
    },
    {
      "cell_type": "code",
      "source": [
        "def crawl_img(link: str, name_game):\n",
        "  # input: link game in steam\n",
        "  r2 = rq.get(link)\n",
        "  soup2 = BeautifulSoup(r2.text, 'html.parser')\n",
        "  x = soup2.select('img[src^=\"https://cdn.akamai.steamstatic.com/steam/apps/\"]')\n",
        "  # get link of each img\n",
        "  links = []\n",
        "  for img in x:\n",
        "    links.append(img['src'])\n",
        "  # create folder to store img\n",
        "  path_store_game = \"/content/content/MyDrive/data/datasets/steam/\" + name_game\n",
        "  if os.path.exists(path_store_game):\n",
        "    shutil.rmtree(path_store_game)\n",
        "  os.mkdir(name_game)\n",
        "  # crawl\n",
        "  i = 1\n",
        "  for index, img_link in enumerate(links):\n",
        "    img_data = rq.get(img_link).content\n",
        "    with open(name_game + \"/\"+str(index+1)+'.jpg','wb+') as f:\n",
        "      f.write(img_data)\n",
        "      i += 1\n",
        "      f.close()"
      ],
      "metadata": {
        "id": "CIDsJbZ1jyTQ"
      },
      "execution_count": 57,
      "outputs": []
    },
    {
      "cell_type": "code",
      "source": [
        "# crawl thử 1/10 của list game: 3200 games\n",
        "batch_one = steam_games[30:100]\n",
        "test = batch_one[45]\n",
        "test"
      ],
      "metadata": {
        "colab": {
          "base_uri": "https://localhost:8080/"
        },
        "id": "BFntAnY4jfOQ",
        "outputId": "11d4a28f-81bf-4aa9-eab4-9288d412f126"
      },
      "execution_count": 60,
      "outputs": [
        {
          "output_type": "execute_result",
          "data": {
            "text/plain": [
              "{'publisher': '2K Games',\n",
              " 'genres': ['Strategy'],\n",
              " 'app_name': 'Railroad Tycoon II Platinum',\n",
              " 'sentiment': 'Very Positive',\n",
              " 'title': 'Railroad Tycoon II Platinum',\n",
              " 'url': 'http://store.steampowered.com/app/7620/Railroad_Tycoon_II_Platinum/',\n",
              " 'release_date': '1998-10-31',\n",
              " 'tags': ['Strategy',\n",
              "  'Management',\n",
              "  'Trains',\n",
              "  'Simulation',\n",
              "  'Singleplayer',\n",
              "  'Classic',\n",
              "  'Economy'],\n",
              " 'reviews_url': 'http://steamcommunity.com/app/7620/reviews/?browsefilter=mostrecent&p=1',\n",
              " 'specs': ['Single-player'],\n",
              " 'price': 4.99,\n",
              " 'metascore': 89,\n",
              " 'early_access': False,\n",
              " 'id': '7620',\n",
              " 'developer': 'PopTop'}"
            ]
          },
          "metadata": {},
          "execution_count": 60
        }
      ]
    },
    {
      "cell_type": "code",
      "source": [
        "for index, game in enumerate(batch_one):\n",
        "  print(f'index: {index}')\n",
        "  game_url = game['url']\n",
        "  game_name = game['app_name']\n",
        "  crawl_img(game_url, game_name)"
      ],
      "metadata": {
        "colab": {
          "base_uri": "https://localhost:8080/",
          "height": 974
        },
        "id": "8R7fP5xfk45s",
        "outputId": "5456436f-20c9-49b8-a165-c017148f4bc7"
      },
      "execution_count": 58,
      "outputs": [
        {
          "output_type": "stream",
          "name": "stdout",
          "text": [
            "index: 0\n",
            "index: 1\n",
            "index: 2\n",
            "index: 3\n",
            "index: 4\n",
            "index: 5\n",
            "index: 6\n",
            "index: 7\n",
            "index: 8\n",
            "index: 9\n",
            "index: 10\n",
            "index: 11\n",
            "index: 12\n",
            "index: 13\n",
            "index: 14\n",
            "index: 15\n",
            "index: 16\n",
            "index: 17\n",
            "index: 18\n",
            "index: 19\n",
            "index: 20\n",
            "index: 21\n",
            "index: 22\n",
            "index: 23\n",
            "index: 24\n",
            "index: 25\n",
            "index: 26\n",
            "index: 27\n",
            "index: 28\n",
            "index: 29\n",
            "index: 30\n",
            "index: 31\n",
            "index: 32\n",
            "index: 33\n",
            "index: 34\n",
            "index: 35\n",
            "index: 36\n",
            "index: 37\n",
            "index: 38\n",
            "index: 39\n",
            "index: 40\n",
            "index: 41\n",
            "index: 42\n",
            "index: 43\n",
            "index: 44\n"
          ]
        },
        {
          "output_type": "error",
          "ename": "KeyError",
          "evalue": "'app_name'",
          "traceback": [
            "\u001b[0;31m---------------------------------------------------------------------------\u001b[0m",
            "\u001b[0;31mKeyError\u001b[0m                                  Traceback (most recent call last)",
            "\u001b[0;32m<ipython-input-58-40f466a9e488>\u001b[0m in \u001b[0;36m<cell line: 1>\u001b[0;34m()\u001b[0m\n\u001b[1;32m      2\u001b[0m   \u001b[0mprint\u001b[0m\u001b[0;34m(\u001b[0m\u001b[0;34mf'index: {index}'\u001b[0m\u001b[0;34m)\u001b[0m\u001b[0;34m\u001b[0m\u001b[0;34m\u001b[0m\u001b[0m\n\u001b[1;32m      3\u001b[0m   \u001b[0mgame_url\u001b[0m \u001b[0;34m=\u001b[0m \u001b[0mgame\u001b[0m\u001b[0;34m[\u001b[0m\u001b[0;34m'url'\u001b[0m\u001b[0;34m]\u001b[0m\u001b[0;34m\u001b[0m\u001b[0;34m\u001b[0m\u001b[0m\n\u001b[0;32m----> 4\u001b[0;31m   \u001b[0mgame_name\u001b[0m \u001b[0;34m=\u001b[0m \u001b[0mgame\u001b[0m\u001b[0;34m[\u001b[0m\u001b[0;34m'app_name'\u001b[0m\u001b[0;34m]\u001b[0m\u001b[0;34m\u001b[0m\u001b[0;34m\u001b[0m\u001b[0m\n\u001b[0m\u001b[1;32m      5\u001b[0m   \u001b[0mcrawl_img\u001b[0m\u001b[0;34m(\u001b[0m\u001b[0mgame_url\u001b[0m\u001b[0;34m,\u001b[0m \u001b[0mgame_name\u001b[0m\u001b[0;34m)\u001b[0m\u001b[0;34m\u001b[0m\u001b[0;34m\u001b[0m\u001b[0m\n",
            "\u001b[0;31mKeyError\u001b[0m: 'app_name'"
          ]
        }
      ]
    }
  ]
}