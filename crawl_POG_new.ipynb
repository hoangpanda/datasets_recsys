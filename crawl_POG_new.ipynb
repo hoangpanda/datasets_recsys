{
 "cells": [
  {
   "cell_type": "code",
   "execution_count": 1,
   "metadata": {},
   "outputs": [],
   "source": [
    "import json \n",
    "import os\n",
    "import ast \n",
    "from multiprocessing import cpu_count\n",
    "from concurrent.futures import ThreadPoolExecutor"
   ]
  },
  {
   "cell_type": "code",
   "execution_count": null,
   "metadata": {},
   "outputs": [],
   "source": [
    "item_info = json.load(open(\"./item_info.json\"))"
   ]
  },
  {
   "cell_type": "code",
   "execution_count": null,
   "metadata": {},
   "outputs": [],
   "source": [
    "import urllib.request\n",
    "import urllib.parse\n",
    "\n",
    "def get_img(link, index, path_store_img):\n",
    "    image_url = link\n",
    "    parsed_url = urllib.parse.urlparse(image_url)\n",
    "    domain = parsed_url.scheme + \"://\" + parsed_url.netloc\n",
    "\n",
    "    # Set the headers to mimic a web browser\n",
    "    headers = {\n",
    "        \"User-Agent\": \"Mozilla/5.0 (Windows NT 10.0; Win64; x64) AppleWebKit/537.36 (KHTML, like Gecko) Chrome/58.0.3029.110 Safari/537.3\",\n",
    "        \"Referer\": domain\n",
    "    }\n",
    "\n",
    "    # Create a request object with the headers\n",
    "    req = urllib.request.Request(image_url, headers=headers)\n",
    "\n",
    "    # Send the request and get the response\n",
    "    with urllib.request.urlopen(req) as response:\n",
    "        # Read the image data\n",
    "        image_data = response.read()\n",
    "\n",
    "    # Save the image data to a file\n",
    "    with open(path_store_img + \"/\" + str(index) +  \".jpg\", \"wb\") as f:\n",
    "        f.write(image_data)"
   ]
  },
  {
   "cell_type": "code",
   "execution_count": null,
   "metadata": {},
   "outputs": [],
   "source": [
    "links = [item_info[str(x)]['pic'] for x in range(1999, 10000)]\n",
    "\n",
    "\n",
    "with ThreadPoolExecutor(max_workers=16) as executor:\n",
    "    for index, link in enumerate(links):\n",
    "        if link[0] == '/':\n",
    "            link = \"https:\" + link\n",
    "        print(link)\n",
    "        executor.submit(get_img, link, index, \"D:\\project\\source code\\CLHE\\datasets\\imgcrawl\")"
   ]
  }
 ],
 "metadata": {
  "kernelspec": {
   "display_name": "base",
   "language": "python",
   "name": "python3"
  },
  "language_info": {
   "codemirror_mode": {
    "name": "ipython",
    "version": 3
   },
   "file_extension": ".py",
   "mimetype": "text/x-python",
   "name": "python",
   "nbconvert_exporter": "python",
   "pygments_lexer": "ipython3",
   "version": "3.10.9"
  }
 },
 "nbformat": 4,
 "nbformat_minor": 2
}
